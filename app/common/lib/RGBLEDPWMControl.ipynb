{
 "cells": [
  {
   "cell_type": "code",
   "execution_count": null,
   "id": "93d13c5b",
   "metadata": {},
   "outputs": [
    {
     "data": {
      "image/png": "[encoded data removed]",
      "text/plain": [
       "<Figure size 800x100 with 1 Axes>"
      ]
     },
     "metadata": {},
     "output_type": "display_data"
    }
   ],
   "source": [
    "import re\n",
    "import numpy as np\n",
    "import matplotlib.pyplot as plt\n",
    "\n",
    "division = 16\n",
    "\n",
    "data = \"\"\" \n",
    "    int8_t rainbowR[16] = {11, 11, 11,  8,  4,  0,  0,  0,  0,  0,  0,  0,  8, 11, 11, 11};\n",
    "    int8_t rainbowG[16] = { 0,  0,  0,  0,  0,  0,  4,  8, 11, 11, 11, 11, 11, 11, 11, 11};\n",
    "    int8_t rainbowB[16] = { 0,  8, 11, 11, 11, 11, 11, 11, 11,  8,  4,  0,  0,  0,  8, 11};\n",
    "\"\"\"\n",
    "\n",
    "# 正規表現を用いてデータを抽出\n",
    "def extract_values(text, variable_name):\n",
    "    match = re.search(rf\"{variable_name}\\[16\\] = \\{{(.*?)\\}};\", text)\n",
    "    if match:\n",
    "        return [int(x) for x in match.group(1).split(',')]\n",
    "    return []\n",
    "\n",
    "r_array = extract_values(data, \"rainbowR\")\n",
    "g_array = extract_values(data, \"rainbowG\")\n",
    "b_array = extract_values(data, \"rainbowB\")\n",
    "\n",
    "def getColor(color_value):\n",
    "    return r_array[color_value], g_array[color_value], b_array[color_value]\n",
    "\n",
    "# 色の確認\n",
    "fig, ax = plt.subplots(figsize=(8, 1))\n",
    "for i in range(division):\n",
    "    r, g, b = getColor(i)\n",
    "    ax.add_patch(plt.Rectangle((i, 0), 1, 1, color=[r/11, g/11, b/11]))\n",
    "\n",
    "ax.set_xticks([])\n",
    "ax.set_yticks([])\n",
    "ax.set_xlim(0, division)\n",
    "ax.set_ylim(0, 1)\n",
    "plt.show()"
   ]
  }
 ],
 "metadata": {
  "kernelspec": {
   "display_name": "Python 3",
   "language": "python",
   "name": "python3"
  },
  "language_info": {
   "codemirror_mode": {
    "name": "ipython",
    "version": 3
   },
   "file_extension": ".py",
   "mimetype": "text/x-python",
   "name": "python",
   "nbconvert_exporter": "python",
   "pygments_lexer": "ipython3",
   "version": "3.10.11"
  }
 },
 "nbformat": 4,
 "nbformat_minor": 5
}
